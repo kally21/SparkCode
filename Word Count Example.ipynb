{
 "cells": [
  {
   "cell_type": "raw",
   "id": "f18a3ea2",
   "metadata": {},
   "source": []
  },
  {
   "cell_type": "code",
   "execution_count": 1,
   "id": "4aa7c1d8",
   "metadata": {},
   "outputs": [],
   "source": [
    "from pyspark.sql import SparkSession\n",
    "import getpass\n",
    "username=getpass.getuser()\n",
    "spark=SparkSession.\\\n",
    "builder.\\\n",
    "config('spark.ui.port','0').\\\n",
    "config(\"spark.sql.warehouse.dir\",f\"/user/itv010201/warehouse\").\\\n",
    "enableHiveSupport().\\\n",
    "master('yarn').\\\n",
    "getOrCreate()"
   ]
  },
  {
   "cell_type": "code",
   "execution_count": 2,
   "id": "08ed06db",
   "metadata": {},
   "outputs": [],
   "source": [
    "rdd1 = spark.sparkContext.textFile(\"/user/itv006277/data/inputfile.txt\")"
   ]
  },
  {
   "cell_type": "code",
   "execution_count": 3,
   "id": "9d59d746",
   "metadata": {},
   "outputs": [
    {
     "data": {
      "text/plain": [
       "['big data is very interesting',\n",
       " 'big data is one of the msot trending technology',\n",
       " 'my name is sumit and i teach big data',\n",
       " 'my institute name is trendytech']"
      ]
     },
     "execution_count": 3,
     "metadata": {},
     "output_type": "execute_result"
    }
   ],
   "source": [
    "rdd1.take(5)"
   ]
  },
  {
   "cell_type": "code",
   "execution_count": 4,
   "id": "dc9d4d3e",
   "metadata": {},
   "outputs": [],
   "source": [
    "rdd2=rdd1.flatMap(lambda x:x.split(\" \"))"
   ]
  },
  {
   "cell_type": "code",
   "execution_count": 5,
   "id": "e8fb5f10",
   "metadata": {},
   "outputs": [
    {
     "data": {
      "text/plain": [
       "['big',\n",
       " 'data',\n",
       " 'is',\n",
       " 'very',\n",
       " 'interesting',\n",
       " 'big',\n",
       " 'data',\n",
       " 'is',\n",
       " 'one',\n",
       " 'of',\n",
       " 'the',\n",
       " 'msot',\n",
       " 'trending',\n",
       " 'technology',\n",
       " 'my',\n",
       " 'name',\n",
       " 'is',\n",
       " 'sumit',\n",
       " 'and',\n",
       " 'i',\n",
       " 'teach',\n",
       " 'big',\n",
       " 'data',\n",
       " 'my',\n",
       " 'institute',\n",
       " 'name',\n",
       " 'is',\n",
       " 'trendytech']"
      ]
     },
     "execution_count": 5,
     "metadata": {},
     "output_type": "execute_result"
    }
   ],
   "source": [
    "rdd2.take(5)"
   ]
  },
  {
   "cell_type": "code",
   "execution_count": 6,
   "id": "e58ace72",
   "metadata": {},
   "outputs": [],
   "source": [
    "rdd3 =rdd2.map(lambda w: (w,1))"
   ]
  },
  {
   "cell_type": "code",
   "execution_count": 7,
   "id": "32d3070e",
   "metadata": {},
   "outputs": [
    {
     "data": {
      "text/plain": [
       "[('big', 1),\n",
       " ('data', 1),\n",
       " ('is', 1),\n",
       " ('very', 1),\n",
       " ('interesting', 1),\n",
       " ('big', 1),\n",
       " ('data', 1),\n",
       " ('is', 1),\n",
       " ('one', 1),\n",
       " ('of', 1),\n",
       " ('the', 1),\n",
       " ('msot', 1),\n",
       " ('trending', 1),\n",
       " ('technology', 1),\n",
       " ('my', 1),\n",
       " ('name', 1),\n",
       " ('is', 1),\n",
       " ('sumit', 1),\n",
       " ('and', 1),\n",
       " ('i', 1),\n",
       " ('teach', 1),\n",
       " ('big', 1),\n",
       " ('data', 1),\n",
       " ('my', 1),\n",
       " ('institute', 1),\n",
       " ('name', 1),\n",
       " ('is', 1),\n",
       " ('trendytech', 1)]"
      ]
     },
     "execution_count": 7,
     "metadata": {},
     "output_type": "execute_result"
    }
   ],
   "source": [
    "rdd3.take(5)"
   ]
  },
  {
   "cell_type": "code",
   "execution_count": 8,
   "id": "e5b9f2fd",
   "metadata": {},
   "outputs": [],
   "source": [
    "rdd4 =rdd3.reduceByKey(lambda x,y:x+y)"
   ]
  },
  {
   "cell_type": "code",
   "execution_count": 9,
   "id": "f3f5942e",
   "metadata": {},
   "outputs": [
    {
     "data": {
      "text/plain": [
       "[('name', 2),\n",
       " ('is', 4),\n",
       " ('sumit', 1),\n",
       " ('i', 1),\n",
       " ('institute', 1),\n",
       " ('trendytech', 1),\n",
       " ('very', 1),\n",
       " ('interesting', 1),\n",
       " ('of', 1),\n",
       " ('msot', 1),\n",
       " ('trending', 1),\n",
       " ('technology', 1),\n",
       " ('big', 3),\n",
       " ('data', 3),\n",
       " ('one', 1),\n",
       " ('the', 1),\n",
       " ('my', 2),\n",
       " ('and', 1),\n",
       " ('teach', 1)]"
      ]
     },
     "execution_count": 9,
     "metadata": {},
     "output_type": "execute_result"
    }
   ],
   "source": [
    "rdd4.take(5)"
   ]
  },
  {
   "cell_type": "code",
   "execution_count": null,
   "id": "a50fb199",
   "metadata": {},
   "outputs": [],
   "source": []
  },
  {
   "cell_type": "code",
   "execution_count": null,
   "id": "f7d7d858",
   "metadata": {},
   "outputs": [],
   "source": []
  }
 ],
 "metadata": {
  "kernelspec": {
   "display_name": "Pyspark 3",
   "language": "python",
   "name": "pyspark3"
  },
  "language_info": {
   "codemirror_mode": {
    "name": "ipython",
    "version": 3
   },
   "file_extension": ".py",
   "mimetype": "text/x-python",
   "name": "python",
   "nbconvert_exporter": "python",
   "pygments_lexer": "ipython3",
   "version": "3.6.12"
  }
 },
 "nbformat": 4,
 "nbformat_minor": 5
}
