{
 "cells": [
  {
   "cell_type": "code",
   "execution_count": 1,
   "id": "c3ccba43",
   "metadata": {},
   "outputs": [],
   "source": [
    "from pyspark.sql import SparkSession\n",
    "import getpass\n",
    "username=getpass.getuser()\n",
    "spark=SparkSession.\\\n",
    "builder.\\\n",
    "config('spark.ui.port','0').\\\n",
    "config(\"spark.sql.warehouse.dir\",f\"/user/itv010201/warehouse\").\\\n",
    "enableHiveSupport().\\\n",
    "master('yarn').\\\n",
    "getOrCreate()"
   ]
  },
  {
   "cell_type": "code",
   "execution_count": 3,
   "id": "72104b72",
   "metadata": {},
   "outputs": [],
   "source": [
    "order_read=spark.sparkContext.textFile(\"/user/itv010201/orders/*\")"
   ]
  },
  {
   "cell_type": "code",
   "execution_count": 4,
   "id": "26177d9c",
   "metadata": {},
   "outputs": [
    {
     "data": {
      "text/plain": [
       "['16188,2013-11-04 00:00:00.0,2537,COMPLETE',\n",
       " '16189,2013-11-04 00:00:00.0,1012,CLOSED',\n",
       " '16190,2013-11-04 00:00:00.0,4306,COMPLETE',\n",
       " '16191,2013-11-04 00:00:00.0,2725,PROCESSING',\n",
       " '16192,2013-11-04 00:00:00.0,11539,COMPLETE']"
      ]
     },
     "execution_count": 4,
     "metadata": {},
     "output_type": "execute_result"
    }
   ],
   "source": [
    "order_read.take(5)"
   ]
  },
  {
   "cell_type": "code",
   "execution_count": 19,
   "id": "622c284f",
   "metadata": {},
   "outputs": [],
   "source": [
    "order_mapped = order_read.map(lambda x: (x.split(\",\")[3],1))"
   ]
  },
  {
   "cell_type": "code",
   "execution_count": 20,
   "id": "9c4968cd",
   "metadata": {},
   "outputs": [
    {
     "data": {
      "text/plain": [
       "[('COMPLETE', 1),\n",
       " ('CLOSED', 1),\n",
       " ('COMPLETE', 1),\n",
       " ('PROCESSING', 1),\n",
       " ('COMPLETE', 1)]"
      ]
     },
     "execution_count": 20,
     "metadata": {},
     "output_type": "execute_result"
    }
   ],
   "source": [
    "order_mapped.take(5)"
   ]
  },
  {
   "cell_type": "code",
   "execution_count": 23,
   "id": "e3ed01df",
   "metadata": {},
   "outputs": [],
   "source": [
    "order_final = order_mapped.reduceByKey(lambda x,y:(x+y))"
   ]
  },
  {
   "cell_type": "code",
   "execution_count": 24,
   "id": "e3bdb8de",
   "metadata": {},
   "outputs": [
    {
     "data": {
      "text/plain": [
       "[('CLOSED', 6),\n",
       " ('COMPLETE', 16),\n",
       " ('PROCESSING', 1),\n",
       " ('SUSPECTED_FRAUD', 1),\n",
       " ('PENDING', 4),\n",
       " ('PENDING_PAYMENT', 5),\n",
       " ('ON_HOLD', 2)]"
      ]
     },
     "execution_count": 24,
     "metadata": {},
     "output_type": "execute_result"
    }
   ],
   "source": [
    "order_final.collect()"
   ]
  },
  {
   "cell_type": "code",
   "execution_count": null,
   "id": "b8045795",
   "metadata": {},
   "outputs": [],
   "source": []
  }
 ],
 "metadata": {
  "kernelspec": {
   "display_name": "Pyspark 3",
   "language": "python",
   "name": "pyspark3"
  },
  "language_info": {
   "codemirror_mode": {
    "name": "ipython",
    "version": 3
   },
   "file_extension": ".py",
   "mimetype": "text/x-python",
   "name": "python",
   "nbconvert_exporter": "python",
   "pygments_lexer": "ipython3",
   "version": "3.6.12"
  }
 },
 "nbformat": 4,
 "nbformat_minor": 5
}
